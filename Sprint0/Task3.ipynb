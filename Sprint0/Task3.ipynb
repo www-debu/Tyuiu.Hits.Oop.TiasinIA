{
 "cells": [
  {
   "cell_type": "markdown",
   "metadata": {},
   "source": [
    "<h1 style=\"color:DodgerBlue\">Индивидальный проект</h1>"
   ]
  },
  {
   "cell_type": "markdown",
   "metadata": {},
   "source": [
    "<h2 style=\"color:DodgerBlue\">Название проекта:</h2>\n",
    "\n",
    "----\n",
    "\n",
    "### Вариант задания 23\n"
   ]
  },
  {
   "cell_type": "markdown",
   "metadata": {},
   "source": [
    "<h2 style=\"color:DodgerBlue\">Описание проекта:</h2>\n",
    "\n",
    "----\n",
    "\n",
    "Описание задачи:\n",
    "Создать базовый класс Task в C#, который будет представлять задачи внутри\n",
    "проекта. На основе этого класса разработать 2-3 производных класса,\n",
    "демонстрирующих принципы наследования и полиморфизма. В каждом из классов\n",
    "должны быть реализованы новые атрибуты и методы, а также переопределены\n",
    "некоторые методы базового класса для демонстрации полиморфизма.\n",
    "Требования к базовому классу Task:\n",
    "• Атрибуты: ID задачи (TaskId), Название задачи (TaskName), Приоритет\n",
    "задачи (Priority).\n",
    "• Методы:\n",
    "o MarkAsComplete(): метод для отметки задачи как выполненной.\n",
    "o GetTaskDetails(): метод для получения деталей задачи.\n",
    "o ReassignTo(): метод для переназначения задачи другому члену\n",
    "команды.\n",
    "Требования к производным классам:\n",
    "1. ДелегатскаяЗадача (DelegateTask): Должна содержать дополнительные\n",
    "атрибуты, такие как Дата выполнения (DueDate).\n",
    "Метод MarkAsComplete() должен быть переопределен для включения даты\n",
    "выполнения в сообщение о завершении задачи.\n",
    "2. КоманднаяЗадача (TeamTask): Должна содержать дополнительные атрибуты,\n",
    "такие как Команда (TeamName). Метод ReassignTo() должен быть\n",
    "переопределен для указания нового члена команды, которому будет\n",
    "переназначена задача.\n",
    "3. ИсследовательскаяЗадача (ResearchTask) (если требуется третий класс):\n",
    "Должна содержать дополнительные атрибуты, такие как Исходные данные\n",
    "(DataSource). Метод GetTaskDetails() должен быть переопределен для\n",
    "отображения источников данных, используемых в задаче, вместе с другими\n",
    "деталями задачи."
   ]
  },
  {
   "cell_type": "markdown",
   "metadata": {},
   "source": [
    "<h2 style=\"color:DodgerBlue\">Реализация:</h2>\n",
    "\n",
    "----"
   ]
  },
  {
   "cell_type": "code",
   "execution_count": 13,
   "metadata": {
    "dotnet_interactive": {
     "language": "csharp"
    },
    "polyglot_notebook": {
     "kernelName": "csharp"
    }
   },
   "outputs": [
    {
     "name": "stdout",
     "output_type": "stream",
     "text": [
      "ID: 1, Название: Подготовить автомобиль, Приоритет: Высокий, Исполнитель: Илья, Статус: в процессе\n",
      "Задача 'Подготовить автомобиль' выполнена\n",
      "Дата завершения: 9/24/2025\n",
      "\n",
      "ID: 2, Название: Разработка буровой скважины, Приоритет: Средний, Исполнитель: Никита, Статус: в процессе\n",
      "Задача 'Разработка буровой скважины' переназначена исполнителю: Дарья\n",
      "Задача теперь назначена члену команды 'Команда разработки': Дарья\n",
      "\n",
      "ID: 3, Название: Сделать историю справку, Приоритет: Низкий, Исполнитель: Руслан, Статус: в процессе\n",
      "Источник данных: Открытые источники\n"
     ]
    }
   ],
   "source": [
    "using System;\n",
    "\n",
    "public class Task\n",
    "{\n",
    "    public int TaskId {get;set;}\n",
    "    public string TaskName {get;set;}\n",
    "    public string Priority {get; set;}\n",
    "    public bool IsCompleted {get;set;}\n",
    "    public string AssignedTo {get; set;}\n",
    "\n",
    "    public Task(int taskId, string taskName, string priority, string assignedTo)\n",
    "    {\n",
    "        TaskId = taskId;\n",
    "        TaskName = taskName;\n",
    "        Priority = priority;\n",
    "        AssignedTo = assignedTo;\n",
    "        IsCompleted = false;\n",
    "    }\n",
    "\n",
    "    //отметка задачи как выполненной\n",
    "    public virtual void MarkAsComplete()\n",
    "    {\n",
    "        IsCompleted = true;\n",
    "        Console.WriteLine($\"Задача '{TaskName}' выполнена\");\n",
    "    }\n",
    "\n",
    "    //получение деталей задачи\n",
    "    public virtual void GetTaskDetails()\n",
    "    {\n",
    "        Console.WriteLine($\"ID: {TaskId}, Название: {TaskName}, Приоритет: {Priority}, Исполнитель: {AssignedTo}, Статус: {(IsCompleted ? \"выполнена\" : \"в процессе\")}\");\n",
    "    }\n",
    "\n",
    "    //переназначение задачи\n",
    "    public virtual void ReassignTo(string newAssign)\n",
    "    {\n",
    "        AssignedTo = newAssign;\n",
    "        Console.WriteLine($\"Задача '{TaskName}' переназначена исполнителю: {newAssign}\");\n",
    "    }\n",
    "\n",
    "}\n",
    "\n",
    "public class DelegateTask : Task\n",
    "{\n",
    "    public DateTime DueDate {get; set;}\n",
    "\n",
    "    public DelegateTask(int taskId, string taskName, string priority, string assignedTo, DateTime dueDate) : base(taskId, taskName, priority, assignedTo)\n",
    "    {\n",
    "        DueDate = dueDate;\n",
    "    }\n",
    "\n",
    "    public override void MarkAsComplete()\n",
    "    {\n",
    "        base.MarkAsComplete();\n",
    "        Console.WriteLine($\"Дата завершения: {DueDate.ToShortDateString()}\");\n",
    "    }\n",
    "\n",
    "}\n",
    "\n",
    "public class TeamTask : Task\n",
    "{\n",
    "    public string TeamName { get; set; }\n",
    "\n",
    "    public TeamTask(int taskId, string taskName, string priority, string assignedTo, string teamName) : base(taskId, taskName, priority, assignedTo)\n",
    "    {\n",
    "        TeamName = teamName;\n",
    "    }\n",
    "\n",
    "    public override void ReassignTo(string newAssignee)\n",
    "    {\n",
    "        base.ReassignTo(newAssignee);\n",
    "        Console.WriteLine($\"Задача теперь назначена члену команды '{TeamName}': {newAssignee}\");\n",
    "    }\n",
    "}\n",
    "\n",
    "public class ResearchTask : Task\n",
    "{\n",
    "    public string DataSource { get; set; }\n",
    "\n",
    "    public ResearchTask(int taskId, string taskName, string priority, string assignedTo, string dataSource)\n",
    "        : base(taskId, taskName, priority, assignedTo)\n",
    "    {\n",
    "        DataSource = dataSource;\n",
    "    }\n",
    "\n",
    "    public override void GetTaskDetails()\n",
    "    {\n",
    "        base.GetTaskDetails();\n",
    "        Console.WriteLine($\"Источник данных: {DataSource}\");\n",
    "    }\n",
    "}\n",
    "\n",
    " Task delegateTask = new DelegateTask(1, \"Подготовить автомобиль\", \"Высокий\", \"Илья\", DateTime.Now.AddDays(2));\n",
    "delegateTask.GetTaskDetails();\n",
    "delegateTask.MarkAsComplete();\n",
    "\n",
    "Console.WriteLine();\n",
    "\n",
    "Task teamTask = new TeamTask(2, \"Разработка буровой скважины\", \"Средний\", \"Никита\", \"Команда разработки\");\n",
    "teamTask.GetTaskDetails();\n",
    "teamTask.ReassignTo(\"Дарья\");\n",
    "\n",
    "Console.WriteLine();\n",
    "\n",
    "Task researchTask = new ResearchTask(3, \"Сделать историю справку\", \"Низкий\", \"Руслан\", \"Открытые источники\");\n",
    "researchTask.GetTaskDetails();"
   ]
  }
 ],
 "metadata": {
  "kernelspec": {
   "display_name": ".NET (C#)",
   "language": "C#",
   "name": ".net-csharp"
  },
  "polyglot_notebook": {
   "kernelInfo": {
    "defaultKernelName": "csharp",
    "items": [
     {
      "aliases": [],
      "languageName": "csharp",
      "name": "csharp"
     }
    ]
   }
  }
 },
 "nbformat": 4,
 "nbformat_minor": 2
}
