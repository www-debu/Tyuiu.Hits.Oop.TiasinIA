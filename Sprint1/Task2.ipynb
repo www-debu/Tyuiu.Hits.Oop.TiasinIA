{
 "cells": [
  {
   "cell_type": "markdown",
   "metadata": {},
   "source": [
    "<h1 style=\"color:DodgerBlue\">Создание экземпляров классов (объектов) и взаимодействие объектов между собой</h1>"
   ]
  },
  {
   "cell_type": "markdown",
   "metadata": {},
   "source": [
    "### Создание экземпляров классов (объектов)\n",
    "\n",
    "В C#, экземпляр класса создается с помощью оператора `new`, который выделяет память для нового объекта и вызывает конструктор класса для инициализации этого объекта. Конструктор — это специальный метод в классе, который имеет то же имя, что и класс, и используется для установки начального состояния объекта.\n",
    "\n",
    "#### Пример создания экземпляров классов Vehicle и Car\n",
    "\n",
    "```csharp\n",
    "Vehicle myVehicle = new Vehicle();\n",
    "Car myCar = new Car();\n",
    "```\n",
    "\n",
    "В этом примере создаются два объекта: один для класса `Vehicle` и другой для класса `Car`. Конструкторы этих классов будут автоматически вызваны при создании объектов.\n",
    "\n",
    "### Взаимодействие объектов между Собой\n",
    "\n",
    "Взаимодействие объектов между собой означает, что один объект может вызывать методы другого объекта или обращаться к его свойствам (если они доступны). Это позволяет объектам обмениваться информацией и координировать свои действия.\n",
    "\n",
    "#### Пример взаимодействия объектов\n",
    "\n",
    "```csharp\n",
    "myVehicle.Color = \"Red\";\n",
    "myVehicle.Speed = 60;\n",
    "\n",
    "myCar.Color = \"Blue\";\n",
    "myCar.FuelLevel = 100;\n",
    "myCar.Refuel(50); // Увеличиваем уровень топлива на 50\n",
    "```\n",
    "\n",
    "В этом примере мы устанавливаем свойства `Color` и `Speed` для объекта `myVehicle`, а также свойства `Color` и `FuelLevel` для объекта `myCar`. Затем мы вызываем метод `Refuel` у объекта `myCar`, чтобы увеличить его уровень топлива.\n",
    "\n",
    "### Закрепление правил использования модификаторов доступа\n",
    "\n",
    "Модификаторы доступа определяют уровень доступности членов класса из других частей кода. Важно правильно использовать модификаторы доступа для обеспечения безопасности и инкапсуляции данных.\n",
    "\n",
    "#### Примеры модификаторов доступа в классах Vehicle и Car\n",
    "\n",
    "```csharp\n",
    "public class Vehicle\n",
    "{\n",
    "    public string Color { get; set; } // public свойство\n",
    "    private int speed; // private поле\n",
    "\n",
    "    protected void SetSpeed(int value) // protected метод\n",
    "    {\n",
    "        speed = value;\n",
    "    }\n",
    "}\n",
    "\n",
    "public class Car : Vehicle\n",
    "{\n",
    "    private int fuelLevel; // private поле\n",
    "\n",
    "    public void Refuel(int amount) // public метод\n",
    "    {\n",
    "        fuelLevel += amount;\n",
    "    }\n",
    "\n",
    "    protected void CheckSpeedLimit() // protected метод\n",
    "    {\n",
    "        if (speed > 120)\n",
    "        {\n",
    "            Console.WriteLine(\"Превышен скоростной режим!\");\n",
    "        }\n",
    "    }\n",
    "}\n",
    "```\n",
    "\n",
    "В этом примере:\n",
    "- Свойство `Color` в классе `Vehicle` объявлено как `public`, что позволяет доступ к нему из любого места в коде.\n",
    "- Поле `speed` в классе `Vehicle` объявлено как `private`, что ограничивает доступ к нему только внутри класса `Vehicle`.\n",
    "- Метод `SetSpeed` в классе `Vehicle` объявлен как `protected`, что позволяет доступ к нему из класса `Vehicle` и его производных классов.\n",
    "- Поле `fuelLevel` в классе `Car` объявлено как `private`, ограничивая доступ к нему только внутри класса `Car`.\n",
    "- Методы `Refuel` и `CheckSpeedLimit` в классе `Car` демонстрируют использование модификаторов доступа для контроля над тем, как объекты могут взаимодействовать друг с другом.\n",
    "\n",
    "### Заключение\n",
    "\n",
    "Создание экземпляров классов и взаимодействие между объектами являются ключевыми аспектами объектно-ориентированного программирования в C#. Правильное использование модификаторов доступа обеспечивает безопасность данных и инкапсуляцию, позволяя разработчикам создавать более надежные и управляемые программы."
   ]
  },
  {
   "cell_type": "markdown",
   "metadata": {},
   "source": [
    "<h4 style=\"color:DodgerBlue\">Для проверки напишите пример кода на основе классов Car и Vehicle ниже в блоке:</h4>\n",
    "\n",
    "----"
   ]
  },
  {
   "cell_type": "code",
   "execution_count": 1,
   "metadata": {
    "dotnet_interactive": {
     "language": "csharp"
    },
    "polyglot_notebook": {
     "kernelName": "csharp"
    }
   },
   "outputs": [
    {
     "name": "stdout",
     "output_type": "stream",
     "text": [
      "Цвет первого автомобиля: белый\n",
      "Скорость первого автомобиля: 50км/ч\n",
      "\n",
      "Цвет второго автомобиля: не белый\n",
      "Уровень топлива второго автомобиля: 50л\n",
      "Скорость второго автомобиля: 50км/ч\n"
     ]
    }
   ],
   "source": [
    "using System;\n",
    "\n",
    "public class Vehicle\n",
    "{\n",
    "    public string Color {get; set;}\n",
    "    private int speed;\n",
    "\n",
    "    public void SetSpeed(int value)\n",
    "    {\n",
    "        speed = value;\n",
    "    }\n",
    "    \n",
    "    public int Speed \n",
    "    { \n",
    "        get {return speed;} \n",
    "    }\n",
    "}\n",
    "\n",
    "public class Car : Vehicle\n",
    "{\n",
    "    private int fuelLevel;\n",
    "    \n",
    "    public int FuelLevel \n",
    "    { \n",
    "        get { return fuelLevel; } \n",
    "    }\n",
    "    \n",
    "    public void Refuel(int amount)\n",
    "    {\n",
    "        fuelLevel += amount;\n",
    "    }\n",
    "    \n",
    "    protected void CheckSpeedLimit()\n",
    "    {\n",
    "        if (Speed > 120)\n",
    "        {\n",
    "            Console.WriteLine(\"Превышен скоростной режим...\");\n",
    "        }\n",
    "    }\n",
    "    \n",
    "    public void Drive(int speed)\n",
    "    {\n",
    "        SetSpeed(speed);\n",
    "        CheckSpeedLimit();\n",
    "    }\n",
    "}\n",
    "\n",
    "Vehicle car1 = new Vehicle();\n",
    "Car car2 = new Car();\n",
    "\n",
    "car1.Color = \"белый\";\n",
    "car1.SetSpeed(50);\n",
    "\n",
    "car2.Refuel(50);\n",
    "car2.Color = \"не белый\";\n",
    "car2.Drive(50);\n",
    "\n",
    "Console.WriteLine($\"Цвет первого автомобиля: {car1.Color}\");\n",
    "Console.WriteLine($\"Скорость первого автомобиля: {car1.Speed}км/ч\\n\");\n",
    "Console.WriteLine($\"Цвет второго автомобиля: {car2.Color}\");\n",
    "Console.WriteLine($\"Уровень топлива второго автомобиля: {car2.FuelLevel}л\");\n",
    "Console.WriteLine($\"Скорость второго автомобиля: {car2.Speed}км/ч\");"
   ]
  },
  {
   "cell_type": "markdown",
   "metadata": {},
   "source": [
    "<h4 style=\"color:Red\">Задание:</h4>\n",
    "\n",
    "----\n",
    "\n",
    "Ниже в блоке по примеру создайте базовый класс Animal и производные классы (2-3 например Dog, Cat и так далее) реализуйте структуру и объявление класса, включая свойства, геттеры и сеттеры, а также статические и обычными атрибуты и метода класса с реализацией взаимодействия между объектами."
   ]
  },
  {
   "cell_type": "code",
   "execution_count": 2,
   "metadata": {
    "dotnet_interactive": {
     "language": "csharp"
    },
    "polyglot_notebook": {
     "kernelName": "csharp"
    }
   },
   "outputs": [
    {
     "name": "stdout",
     "output_type": "stream",
     "text": [
      "Вид первого животного: Кот\n",
      "Здоровье первого животного: 70HP\n",
      "\n",
      "Вид второго животного: Собака\n",
      "Уровень энергии второго животного: 30ед\n",
      "Здоровье второго животного: 80HP\n"
     ]
    }
   ],
   "source": [
    "using System;\n",
    "\n",
    "public class Animal\n",
    "{\n",
    "    public string Species { get; set; }\n",
    "    private int health;\n",
    "\n",
    "    public void SetHealth(int value)\n",
    "    {\n",
    "        health = value;\n",
    "    }\n",
    "    \n",
    "    public int Health \n",
    "    { \n",
    "        get { return health; } \n",
    "    }\n",
    "}\n",
    "\n",
    "public class Dog : Animal\n",
    "{\n",
    "    private int energyLevel;\n",
    "    \n",
    "    public int EnergyLevel \n",
    "    { \n",
    "        get { return energyLevel; } \n",
    "    }\n",
    "    \n",
    "    public void Feed(int amount)\n",
    "    {\n",
    "        energyLevel += amount;\n",
    "    }\n",
    "    \n",
    "    protected void CheckHealthStatus()\n",
    "    {\n",
    "        if (Health > 100)\n",
    "        {\n",
    "            Console.WriteLine(\"Питомец переел и чувствует себя плохо...\");\n",
    "        }\n",
    "    }\n",
    "    \n",
    "    public void Play(int intensity)\n",
    "    {\n",
    "        SetHealth(intensity);\n",
    "        CheckHealthStatus();\n",
    "    }\n",
    "}\n",
    "\n",
    "Animal animal1 = new Animal();\n",
    "Dog dog1 = new Dog();\n",
    "\n",
    "animal1.Species = \"Кот\";\n",
    "animal1.SetHealth(70);\n",
    "\n",
    "dog1.Feed(30);\n",
    "dog1.Species = \"Собака\";\n",
    "dog1.Play(80);\n",
    "\n",
    "Console.WriteLine($\"Вид первого животного: {animal1.Species}\");\n",
    "Console.WriteLine($\"Здоровье первого животного: {animal1.Health}HP\\n\");\n",
    "Console.WriteLine($\"Вид второго животного: {dog1.Species}\");\n",
    "Console.WriteLine($\"Уровень энергии второго животного: {dog1.EnergyLevel}ед\");\n",
    "Console.WriteLine($\"Здоровье второго животного: {dog1.Health}HP\");"
   ]
  }
 ],
 "metadata": {
  "kernelspec": {
   "display_name": ".NET (C#)",
   "language": "C#",
   "name": ".net-csharp"
  },
  "polyglot_notebook": {
   "kernelInfo": {
    "defaultKernelName": "csharp",
    "items": [
     {
      "aliases": [],
      "languageName": "csharp",
      "name": "csharp"
     }
    ]
   }
  }
 },
 "nbformat": 4,
 "nbformat_minor": 2
}
